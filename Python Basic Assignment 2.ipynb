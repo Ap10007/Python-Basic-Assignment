{
 "cells": [
  {
   "cell_type": "code",
   "execution_count": 1,
   "id": "52b84e7a",
   "metadata": {},
   "outputs": [],
   "source": [
    "# ASSIGNMENT 2"
   ]
  },
  {
   "cell_type": "code",
   "execution_count": 2,
   "id": "2deba1fe",
   "metadata": {},
   "outputs": [],
   "source": [
    "# Q1.What are the two values of the Boolean data type? How do you write them?"
   ]
  },
  {
   "cell_type": "markdown",
   "id": "560d87c7",
   "metadata": {},
   "source": [
    "ANS = The Python Boolean type has only two possible values:\n",
    "1.True\n",
    "False"
   ]
  },
  {
   "cell_type": "code",
   "execution_count": 3,
   "id": "f7580a5d",
   "metadata": {},
   "outputs": [
    {
     "name": "stdout",
     "output_type": "stream",
     "text": [
      "<class 'bool'>\n",
      "<class 'bool'>\n"
     ]
    }
   ],
   "source": [
    "# We write them following ways :\n",
    "# 1\n",
    "one = True\n",
    "two = False\n",
    "print(type(one))\n",
    "print(type(two))"
   ]
  },
  {
   "cell_type": "code",
   "execution_count": 4,
   "id": "57932291",
   "metadata": {},
   "outputs": [
    {
     "name": "stdout",
     "output_type": "stream",
     "text": [
      "You understood everything?: True\n"
     ]
    }
   ],
   "source": [
    "# 2\n",
    "class_starts_at = 3 \n",
    "you_came_at = 2\n",
    "you_understood_all_concepts = you_came_at < class_starts_at\n",
    "print(f\"You understood everything?: {you_understood_all_concepts}\")"
   ]
  },
  {
   "cell_type": "code",
   "execution_count": 5,
   "id": "a2157028",
   "metadata": {},
   "outputs": [],
   "source": [
    "# Q2.What are the three different types of Boolean operators?"
   ]
  },
  {
   "cell_type": "markdown",
   "id": "41aed5a2",
   "metadata": {},
   "source": [
    "Ans :  The most popular Boolean operators are AND, OR, and NOT.\n",
    "AND  =  \n",
    "1.narrow your results\n",
    "2. tell the database that ALL search terms must be present in the resulting records\n",
    "Ex : (True and True) and (True == False)\n",
    "Ans = False\n",
    "OR  =\n",
    "1. connect two or more similar concepts (synonyms)\n",
    "2.broaden your results, telling the database that ANY of your search terms can be present in the resulting records\n",
    "Ex : (5 > 4) or (3 == 5)\n",
    "Ans.   = True\n",
    "NOT :\n",
    "1.exclude words from your search\n",
    "2. narrow your search, telling the database to ignore concepts that may be implied by your search terms\n",
    "EX :  not (5 > 4)\n",
    "Ans =  False"
   ]
  },
  {
   "cell_type": "code",
   "execution_count": 6,
   "id": "97749ad6",
   "metadata": {},
   "outputs": [],
   "source": [
    "# Q3.Make a list of each Boolean operator's truth tables (i.e. every possible combination of Boolean values for the operator and what it evaluate )."
   ]
  },
  {
   "cell_type": "markdown",
   "id": "b5660e42",
   "metadata": {},
   "source": [
    "Ans : \n",
    "True and True is True.\n",
    "\n",
    "True and False is False.\n",
    "\n",
    "False and True is False.\n",
    "\n",
    "False and False is False.\n",
    "\n",
    "True or True is True.\n",
    "\n",
    "True or False is True.\n",
    "\n",
    "False or True is True.\n",
    "\n",
    "False or False is False.\n",
    "\n",
    "not True is False.\n",
    "\n",
    "not False is True.\n",
    "\n",
    "EX =\n",
    "\n",
    "True is 1 and False is 0\n",
    "Truth Table for AND\n",
    "A B output\n",
    "0 0 0\n",
    "0 1 0\n",
    "1 0 0\n",
    "1 1 1\n",
    "Truth Table for OR\n",
    "A B output\n",
    "0 0 0\n",
    "0 1 1\n",
    "1 0 1\n",
    "1 1 1\n",
    "Truth Table for NOT\n",
    "A output\n",
    "0 1\n",
    "1 0"
   ]
  },
  {
   "cell_type": "code",
   "execution_count": 7,
   "id": "d0c92633",
   "metadata": {},
   "outputs": [],
   "source": [
    "# Q4. What are the values of the following expression ?"
   ]
  },
  {
   "cell_type": "code",
   "execution_count": 8,
   "id": "18f8a112",
   "metadata": {},
   "outputs": [
    {
     "name": "stdout",
     "output_type": "stream",
     "text": [
      "False\n",
      "False\n",
      "True\n",
      "False\n",
      "False\n",
      "True\n"
     ]
    }
   ],
   "source": [
    "print((5>4) and (3==5))\n",
    "print(not(5>4))\n",
    "print((5>4) or (3==5))\n",
    "print(not(5>4) or (3==5))\n",
    "print((True and True) and (True==False))\n",
    "print((not(False))or(not(True)))"
   ]
  },
  {
   "cell_type": "code",
   "execution_count": 9,
   "id": "9af3d361",
   "metadata": {},
   "outputs": [],
   "source": [
    "# Q5.What are the six comparison operators?"
   ]
  },
  {
   "cell_type": "markdown",
   "id": "e3f53c4d",
   "metadata": {},
   "source": [
    "Ans :  ==, !=, <, >, <=, and >="
   ]
  },
  {
   "cell_type": "code",
   "execution_count": 10,
   "id": "f20c91cc",
   "metadata": {},
   "outputs": [],
   "source": [
    "# Q6.How do you tell the difference between the equal to and assignment operators?Describe a condition and when you would use one."
   ]
  },
  {
   "cell_type": "markdown",
   "id": "3e29eac8",
   "metadata": {},
   "source": [
    "Ans : \n",
    "      == is the equal to operator that compares two values and evaluates to a Boolean, while = is the assignment operator that stores a value in a variable."
   ]
  },
  {
   "cell_type": "code",
   "execution_count": 12,
   "id": "77f6a763",
   "metadata": {},
   "outputs": [
    {
     "name": "stdout",
     "output_type": "stream",
     "text": [
      "False\n"
     ]
    }
   ],
   "source": [
    "# Equal To Operator\n",
    "if(6==3):\n",
    "    print(\"True\")\n",
    "else:\n",
    "    print(\"False\")"
   ]
  },
  {
   "cell_type": "code",
   "execution_count": 13,
   "id": "40e1ed29",
   "metadata": {},
   "outputs": [
    {
     "name": "stdout",
     "output_type": "stream",
     "text": [
      "c = 1\n"
     ]
    }
   ],
   "source": [
    "#Assignment operator\n",
    "c=1 #here we have used assignment operator(=) to assign value of c which is 1\n",
    "print(\"c =\",c)"
   ]
  },
  {
   "cell_type": "markdown",
   "id": "12889f88",
   "metadata": {},
   "source": [
    "Q7. Identify the three blocks in this code:\n",
    "spam = 0\n",
    "if spam == 10:\n",
    "print('eggs')\n",
    "if spam > 5:\n",
    "print('bacon')\n",
    "else:\n",
    "print('ham')\n",
    "print('spam')\n",
    "print('spam')"
   ]
  },
  {
   "cell_type": "code",
   "execution_count": 14,
   "id": "529426a5",
   "metadata": {},
   "outputs": [
    {
     "name": "stdout",
     "output_type": "stream",
     "text": [
      "ham\n",
      "spam\n",
      "spam\n"
     ]
    }
   ],
   "source": [
    "spam = 0\n",
    "if spam == 10:\n",
    "    print('eggs')\n",
    "if spam > 5:\n",
    "    print('bacon')\n",
    "else:\n",
    "    print('ham')\n",
    "    print('spam')\n",
    "    print('spam')"
   ]
  },
  {
   "cell_type": "markdown",
   "id": "848b8f6d",
   "metadata": {},
   "source": [
    "Q8. Write code that prints Hello if 1 is stored in spam, prints Howdy if 2 is stored in spam, and prints Greetings! if anything else is stored in spam."
   ]
  },
  {
   "cell_type": "code",
   "execution_count": 16,
   "id": "cd3aae90",
   "metadata": {},
   "outputs": [
    {
     "name": "stdout",
     "output_type": "stream",
     "text": [
      "Enter A Value : 2\n",
      "Howdy\n"
     ]
    }
   ],
   "source": [
    "spam = int(input(\"Enter A Value : \"))\n",
    "if spam == 1:\n",
    "    print(\"Hello\")\n",
    "if spam == 2:\n",
    "    print(\"Howdy\")\n",
    "else :\n",
    "    print(\"Greetings!\")"
   ]
  },
  {
   "cell_type": "code",
   "execution_count": 17,
   "id": "4f5f07d7",
   "metadata": {},
   "outputs": [],
   "source": [
    "# Q9.If your programme is stuck in an endless loop, what keys you’ll press?"
   ]
  },
  {
   "cell_type": "markdown",
   "id": "ae3662b3",
   "metadata": {},
   "source": [
    "Ans . If program is stuck in endless loop we will press ctrl+c."
   ]
  },
  {
   "cell_type": "code",
   "execution_count": 18,
   "id": "711001e8",
   "metadata": {},
   "outputs": [],
   "source": [
    "# Q10. How can you tell the difference between break and continue?"
   ]
  },
  {
   "cell_type": "code",
   "execution_count": 19,
   "id": "4f0f471c",
   "metadata": {},
   "outputs": [
    {
     "name": "stdout",
     "output_type": "stream",
     "text": [
      "0\n",
      "1\n",
      "2\n",
      "3\n",
      "4\n",
      "5\n",
      "6\n",
      "7\n",
      "8\n",
      "Breaked\n",
      "0\n",
      "1\n",
      "2\n",
      "3\n",
      "4\n",
      "5\n",
      "6\n",
      "7\n",
      "8\n"
     ]
    }
   ],
   "source": [
    "# use of break\n",
    "for i in range(10):\n",
    "    if(i==9):\n",
    "        break\n",
    "    print(i)\n",
    "    \n",
    "print('Breaked')\n",
    "#use of  continue\n",
    "for i in range(10):\n",
    "    if(i==9):\n",
    "        continue\n",
    "    print(i)"
   ]
  },
  {
   "cell_type": "markdown",
   "id": "3b8f97a5",
   "metadata": {},
   "source": [
    "The break statement will move the execution outside and just after a loop. The continue statement will move the execution to the start of the loop."
   ]
  },
  {
   "cell_type": "code",
   "execution_count": 20,
   "id": "16519a03",
   "metadata": {},
   "outputs": [],
   "source": [
    "# Q11. In a for loop, what is the difference between range(10), range(0, 10), and range(0, 10, 1)?"
   ]
  },
  {
   "cell_type": "code",
   "execution_count": 21,
   "id": "887f501c",
   "metadata": {},
   "outputs": [
    {
     "name": "stdout",
     "output_type": "stream",
     "text": [
      "0\n",
      "1\n",
      "2\n",
      "3\n",
      "4\n",
      "5\n",
      "6\n",
      "7\n",
      "8\n",
      "9\n",
      "Hello G\n"
     ]
    }
   ],
   "source": [
    "for i in range(10):\n",
    "    print(i)\n",
    "print(\"Hello G\")"
   ]
  },
  {
   "cell_type": "code",
   "execution_count": 22,
   "id": "629c80f9",
   "metadata": {
    "scrolled": true
   },
   "outputs": [
    {
     "name": "stdout",
     "output_type": "stream",
     "text": [
      "0\n",
      "1\n",
      "2\n",
      "3\n",
      "4\n",
      "5\n",
      "6\n",
      "7\n",
      "8\n",
      "9\n",
      "Hello G\n"
     ]
    }
   ],
   "source": [
    "for i in range(0,10):\n",
    "    print(i)\n",
    "print(\"Hello G\")"
   ]
  },
  {
   "cell_type": "code",
   "execution_count": 23,
   "id": "cb9c10f6",
   "metadata": {
    "scrolled": true
   },
   "outputs": [
    {
     "name": "stdout",
     "output_type": "stream",
     "text": [
      "0\n",
      "1\n",
      "2\n",
      "3\n",
      "4\n",
      "5\n",
      "6\n",
      "7\n",
      "8\n",
      "9\n",
      "Hello G\n"
     ]
    }
   ],
   "source": [
    "for i in range(0,10,1):\n",
    "    print(i)\n",
    "print(\"Hello G\")"
   ]
  },
  {
   "cell_type": "markdown",
   "id": "a981f2ac",
   "metadata": {},
   "source": [
    "From the above output we can conclude that they all do the same thing. The range(10) call ranges from 0 up to (but not including) 10, range(0, 10) tells the loop to start at 0, and range(0, 10, 1) tells the loop to increase the variable by 1 on each iteration."
   ]
  },
  {
   "cell_type": "code",
   "execution_count": 24,
   "id": "ac74dd2e",
   "metadata": {},
   "outputs": [],
   "source": [
    "# Q12. Write a short program that prints the numbers 1 to 10 using a for loop. Then write an equivalent program that prints the numbers 1 to 10 using a while loop."
   ]
  },
  {
   "cell_type": "code",
   "execution_count": 25,
   "id": "ff050979",
   "metadata": {},
   "outputs": [
    {
     "name": "stdout",
     "output_type": "stream",
     "text": [
      "1\n",
      "2\n",
      "3\n",
      "4\n",
      "5\n",
      "6\n",
      "7\n",
      "8\n",
      "9\n",
      "10\n"
     ]
    }
   ],
   "source": [
    "for i in range(1,11):\n",
    "    print(i)"
   ]
  },
  {
   "cell_type": "code",
   "execution_count": 27,
   "id": "e24f909e",
   "metadata": {},
   "outputs": [
    {
     "name": "stdout",
     "output_type": "stream",
     "text": [
      "1\n",
      "2\n",
      "3\n",
      "4\n",
      "5\n",
      "6\n",
      "7\n",
      "8\n",
      "9\n",
      "10\n"
     ]
    }
   ],
   "source": [
    "\n",
    "i = 1 # 1st note\n",
    "\n",
    "while i <= 10:\n",
    "  print(i)\n",
    "  i = i + 1"
   ]
  },
  {
   "cell_type": "code",
   "execution_count": 28,
   "id": "ac14b2d5",
   "metadata": {},
   "outputs": [],
   "source": [
    "# Q13. If you had a function named bacon() inside a module named spam, how would you call it after importing spam?"
   ]
  },
  {
   "cell_type": "code",
   "execution_count": 32,
   "id": "853b9e82",
   "metadata": {},
   "outputs": [],
   "source": [
    "class spam :\n",
    "    def bacon(self):\n",
    "        return \"Hello\""
   ]
  },
  {
   "cell_type": "code",
   "execution_count": 33,
   "id": "72759217",
   "metadata": {},
   "outputs": [],
   "source": [
    "a=spam()"
   ]
  },
  {
   "cell_type": "code",
   "execution_count": 34,
   "id": "0e876a03",
   "metadata": {},
   "outputs": [
    {
     "data": {
      "text/plain": [
       "'Hello'"
      ]
     },
     "execution_count": 34,
     "metadata": {},
     "output_type": "execute_result"
    }
   ],
   "source": [
    "a.bacon()"
   ]
  },
  {
   "cell_type": "code",
   "execution_count": 36,
   "id": "fa8db8ae",
   "metadata": {},
   "outputs": [
    {
     "data": {
      "text/plain": [
       "'Hello'"
      ]
     },
     "execution_count": 36,
     "metadata": {},
     "output_type": "execute_result"
    }
   ],
   "source": [
    "spam.bacon(a)"
   ]
  }
 ],
 "metadata": {
  "kernelspec": {
   "display_name": "Python 3 (ipykernel)",
   "language": "python",
   "name": "python3"
  },
  "language_info": {
   "codemirror_mode": {
    "name": "ipython",
    "version": 3
   },
   "file_extension": ".py",
   "mimetype": "text/x-python",
   "name": "python",
   "nbconvert_exporter": "python",
   "pygments_lexer": "ipython3",
   "version": "3.9.13"
  }
 },
 "nbformat": 4,
 "nbformat_minor": 5
}
