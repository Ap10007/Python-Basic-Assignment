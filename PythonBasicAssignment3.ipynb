{
 "cells": [
  {
   "cell_type": "code",
   "execution_count": 1,
   "id": "8b199435",
   "metadata": {},
   "outputs": [],
   "source": [
    "# Q1. Why are functions advantageous to have in your programs?"
   ]
  },
  {
   "cell_type": "markdown",
   "id": "5db09cc6",
   "metadata": {},
   "source": [
    "Ans : With the help of functions, we can avoid rewriting the same logic or code again and again in a program. In a single Program, we can call Python functions anywhere and also call multiple times. We can track a large Python program easily when it is divided into multiple functions."
   ]
  },
  {
   "cell_type": "code",
   "execution_count": 2,
   "id": "e9260c64",
   "metadata": {},
   "outputs": [],
   "source": [
    "# Q2. When does the code in a function run: when it's specified or when it's called?"
   ]
  },
  {
   "cell_type": "markdown",
   "id": "0308d65e",
   "metadata": {},
   "source": [
    "Ans : The code in a function executes when the function is called, not when the function is defined."
   ]
  },
  {
   "cell_type": "code",
   "execution_count": 3,
   "id": "f00356cf",
   "metadata": {},
   "outputs": [],
   "source": [
    "# Q3. What statement creates a function?"
   ]
  },
  {
   "cell_type": "markdown",
   "id": "dcf58a1f",
   "metadata": {},
   "source": [
    "Ans : To create a function, we must first declare it and give it a name, the same way we'd create any variable, and then we follow it by a function definition: var sayHello = function() { }; We could put any code inside that function - one statement, multiple statements - depends on what we want to do.\n"
   ]
  },
  {
   "cell_type": "code",
   "execution_count": 7,
   "id": "f65e9e99",
   "metadata": {},
   "outputs": [
    {
     "name": "stdout",
     "output_type": "stream",
     "text": [
      "Hello\n",
      "<class 'function'>\n"
     ]
    }
   ],
   "source": [
    "def anuj():\n",
    "    return \"Hello\"\n",
    "\n",
    "print(anuj())\n",
    "print(type(anuj))"
   ]
  },
  {
   "cell_type": "code",
   "execution_count": 8,
   "id": "7f11cb16",
   "metadata": {},
   "outputs": [],
   "source": [
    "# Q4. What is the difference between a function and a function call?"
   ]
  },
  {
   "cell_type": "markdown",
   "id": "d6ef5942",
   "metadata": {},
   "source": [
    "A function is a block of code that does a particular operation and returns a result. It usually accepts inputs as parameters and returns a result. The parameters are not mandatory."
   ]
  },
  {
   "cell_type": "code",
   "execution_count": 10,
   "id": "c737d864",
   "metadata": {},
   "outputs": [],
   "source": [
    "def add(a,b):\n",
    "    return a+ b"
   ]
  },
  {
   "cell_type": "markdown",
   "id": "6033982a",
   "metadata": {},
   "source": [
    "A function call is the code used to pass control to a function."
   ]
  },
  {
   "cell_type": "code",
   "execution_count": 12,
   "id": "ea2ffc0e",
   "metadata": {},
   "outputs": [],
   "source": [
    "b = add(5,6)"
   ]
  },
  {
   "cell_type": "code",
   "execution_count": 13,
   "id": "38bb755a",
   "metadata": {},
   "outputs": [
    {
     "data": {
      "text/plain": [
       "11"
      ]
     },
     "execution_count": 13,
     "metadata": {},
     "output_type": "execute_result"
    }
   ],
   "source": [
    "b"
   ]
  },
  {
   "cell_type": "markdown",
   "id": "b13ce039",
   "metadata": {},
   "source": [
    "Now b will have the value 11."
   ]
  },
  {
   "cell_type": "code",
   "execution_count": 14,
   "id": "6041d858",
   "metadata": {},
   "outputs": [],
   "source": [
    "# Q5. How many global scopes are there in a Python program? How many local scopes?"
   ]
  },
  {
   "cell_type": "markdown",
   "id": "77b570f1",
   "metadata": {},
   "source": [
    "Ans .There's only one global Python scope per program execution. This scope remains in existence until the program terminates , and a local scope is created whenever a function is called."
   ]
  },
  {
   "cell_type": "code",
   "execution_count": 15,
   "id": "46e6bf26",
   "metadata": {},
   "outputs": [],
   "source": [
    "# Q6. What happens to variables in a local scope when the function call returns?"
   ]
  },
  {
   "cell_type": "markdown",
   "id": "dab39915",
   "metadata": {},
   "source": [
    "Ans : Each call of the function creates new local variables, and their lifetimes expire when the function returns to the caller."
   ]
  },
  {
   "cell_type": "code",
   "execution_count": 16,
   "id": "1229f0eb",
   "metadata": {},
   "outputs": [],
   "source": [
    "# Q7. What is the concept of a return value? Is it possible to have a return value in an expression?"
   ]
  },
  {
   "cell_type": "markdown",
   "id": "6234a774",
   "metadata": {},
   "source": [
    "Ans : A return statement is used to end the execution of the function call and “returns” the result (value of the expression following the return keyword) to the caller. The statements after the return statements are not executed. If the return statement is without any expression, then the special value None is returned. A return statement is overall used to invoke a function so that the passed statements can be executed.\n",
    "Like any value, a return value can be used as part of an expression."
   ]
  },
  {
   "cell_type": "code",
   "execution_count": 17,
   "id": "4fdb48ad",
   "metadata": {},
   "outputs": [],
   "source": [
    "def cube(x):\n",
    "   r=x**3\n",
    "   return r"
   ]
  },
  {
   "cell_type": "code",
   "execution_count": 18,
   "id": "ea89fc3d",
   "metadata": {},
   "outputs": [
    {
     "data": {
      "text/plain": [
       "8"
      ]
     },
     "execution_count": 18,
     "metadata": {},
     "output_type": "execute_result"
    }
   ],
   "source": [
    "cube(2)"
   ]
  },
  {
   "cell_type": "code",
   "execution_count": 20,
   "id": "13377fae",
   "metadata": {},
   "outputs": [],
   "source": [
    "# Q8. If a function does not have a return statement, what is the return value of a call to that function?"
   ]
  },
  {
   "cell_type": "markdown",
   "id": "4c7ce10a",
   "metadata": {},
   "source": [
    "Ans : So, if you don't explicitly use a return value in a return statement, or if you totally omit the return statement, then Python will implicitly return a default value for you. That default return value will always be None"
   ]
  },
  {
   "cell_type": "code",
   "execution_count": 27,
   "id": "786c8bb8",
   "metadata": {},
   "outputs": [],
   "source": [
    "# Q9. How do you make a function variable refer to the global variable?"
   ]
  },
  {
   "cell_type": "markdown",
   "id": "8bf2a89a",
   "metadata": {},
   "source": [
    "Ans : You can use a global variable within other functions by declaring it as global within each function that assigns a value to it:"
   ]
  },
  {
   "cell_type": "code",
   "execution_count": 28,
   "id": "f362b5bc",
   "metadata": {},
   "outputs": [
    {
     "name": "stdout",
     "output_type": "stream",
     "text": [
      "1\n"
     ]
    }
   ],
   "source": [
    "globvar = 0\n",
    "\n",
    "def set_globvar_to_one():\n",
    "    global globvar    # Needed to modify global copy of globvar\n",
    "    globvar = 1\n",
    "\n",
    "def print_globvar():\n",
    "    print(globvar)     # No need for global declaration to read value of globvar\n",
    "\n",
    "set_globvar_to_one()\n",
    "print_globvar()       # Prints 1"
   ]
  },
  {
   "cell_type": "code",
   "execution_count": 29,
   "id": "d9b28db6",
   "metadata": {},
   "outputs": [],
   "source": [
    "# Q10. What is the data type of None?"
   ]
  },
  {
   "cell_type": "markdown",
   "id": "edf868a9",
   "metadata": {},
   "source": [
    "The None keyword is used to define a null value, or no value at all. None is not the same as 0, False, or an empty string. None is a data type of its own (NoneType) and only None can be None."
   ]
  },
  {
   "cell_type": "code",
   "execution_count": 30,
   "id": "2680fa13",
   "metadata": {},
   "outputs": [],
   "source": [
    "a = None"
   ]
  },
  {
   "cell_type": "code",
   "execution_count": 31,
   "id": "3ef3c05b",
   "metadata": {},
   "outputs": [
    {
     "data": {
      "text/plain": [
       "NoneType"
      ]
     },
     "execution_count": 31,
     "metadata": {},
     "output_type": "execute_result"
    }
   ],
   "source": [
    "type(a)"
   ]
  },
  {
   "cell_type": "code",
   "execution_count": 32,
   "id": "86a8d659",
   "metadata": {},
   "outputs": [],
   "source": [
    "# Q11. What does the sentence import areallyourpetsnamederic do?"
   ]
  },
  {
   "cell_type": "markdown",
   "id": "bf62fa32",
   "metadata": {},
   "source": [
    "Ans : That import statement imports a module named areallyourpetsnamederic. (But a module of this name doesnt exists in Python)"
   ]
  },
  {
   "cell_type": "code",
   "execution_count": 33,
   "id": "6a1b1d33",
   "metadata": {},
   "outputs": [],
   "source": [
    "# Q12. If you had a bacon() feature in a spam module, what would you call it after importing spam?"
   ]
  },
  {
   "cell_type": "markdown",
   "id": "11908e89",
   "metadata": {},
   "source": [
    " Ans :  import spam\n",
    "        spam.bacon()"
   ]
  },
  {
   "cell_type": "code",
   "execution_count": 35,
   "id": "60023d1f",
   "metadata": {},
   "outputs": [],
   "source": [
    "# Q13. What can you do to save a programme from crashing if it encounters an error?"
   ]
  },
  {
   "cell_type": "markdown",
   "id": "8e5ff5d7",
   "metadata": {},
   "source": [
    "Ans : 1. Prevents program from crashing if an error occurs\n",
    "If an error occurs in a program, we don’t want the program to unexpectedly crash on the user. Instead, error handling can be used to notify the user of why the error occurred and gracefully exit the process that caused the error.\n",
    "2. Saves time debugging errors\n",
    "Following reason #1, having the program display an error instead of immediately crashing will save a lot of time when debugging errors.\n",
    "The logic inside the error handler can be updated to display useful information for the developer, such as the code trackback, type of error, etc.\n",
    "3. Helps define requirements for the program\n",
    "If the program crashes due to bad input, the error handler could notify the user of why the error occurred and define the requirements and constraints of the program.\n",
    "\n",
    "Exception handling using try - except and try - except - finally\n",
    "Assertions"
   ]
  },
  {
   "cell_type": "code",
   "execution_count": 36,
   "id": "6da4a219",
   "metadata": {},
   "outputs": [
    {
     "name": "stdout",
     "output_type": "stream",
     "text": [
      "Please enter a number: 0\n",
      "Error: 0 is an invalid number\n",
      "Cleanup can go here\n"
     ]
    }
   ],
   "source": [
    "\n",
    "try:\n",
    "    x = int(input(\"Please enter a number: \"))\n",
    "    y = 100 / x\n",
    "except ValueError:\n",
    "    print(\"Error: there was an error\")\n",
    "except ZeroDivisionError:\n",
    "    print(\"Error: 0 is an invalid number\")\n",
    "except Exception:\n",
    "    print(\"Error: another error occurred\")\n",
    "finally:\n",
    "    print(\"Cleanup can go here\")"
   ]
  },
  {
   "cell_type": "code",
   "execution_count": 37,
   "id": "a496fe7f",
   "metadata": {},
   "outputs": [],
   "source": [
    "# Q14. What is the purpose of the try clause? What is the purpose of the except clause?"
   ]
  },
  {
   "cell_type": "markdown",
   "id": "e4b8d4ba",
   "metadata": {},
   "source": [
    "Ans : Ans. Try and Except clause is used to handle the errors within our code . The try block is used to check some code for errors i.e the code inside the try block will execute when there is no error in the program. Whereas the code inside the except block will execute whenever the program encounters some error in the try block.\n",
    "\n",
    "Eg. try:\n",
    "# Code\n",
    "except:\n",
    "# Executed if error in the\n",
    "# try block"
   ]
  },
  {
   "cell_type": "code",
   "execution_count": 40,
   "id": "03160356",
   "metadata": {},
   "outputs": [
    {
     "name": "stdout",
     "output_type": "stream",
     "text": [
      "enter first number 5\n",
      "enter second number 0\n",
      "division by zero\n"
     ]
    }
   ],
   "source": [
    "\n",
    "class division_by_5 (Exception):\n",
    "    def __init__ (self,msg):\n",
    "        self.msg = msg\n",
    "try:\n",
    "    a= int(input(\"enter first number \"))\n",
    "    b= int(input(\"enter second number \"))\n",
    "    a/b\n",
    "    if b == 5:\n",
    "        raise division_by_5(\"division by 5 error\")\n",
    "except ValueError as msg:\n",
    "        print(msg)\n",
    "except ZeroDivisionError as msg:\n",
    "        print(msg)\n",
    "except division_by_5 as msg:\n",
    "         print(msg)\n",
    "else:\n",
    "    try :\n",
    "        \n",
    "        result = a/b\n",
    "        print(result)\n",
    "        \n",
    "    except Exception as e :\n",
    "        print(e)\n"
   ]
  }
 ],
 "metadata": {
  "kernelspec": {
   "display_name": "Python 3 (ipykernel)",
   "language": "python",
   "name": "python3"
  },
  "language_info": {
   "codemirror_mode": {
    "name": "ipython",
    "version": 3
   },
   "file_extension": ".py",
   "mimetype": "text/x-python",
   "name": "python",
   "nbconvert_exporter": "python",
   "pygments_lexer": "ipython3",
   "version": "3.9.13"
  }
 },
 "nbformat": 4,
 "nbformat_minor": 5
}
